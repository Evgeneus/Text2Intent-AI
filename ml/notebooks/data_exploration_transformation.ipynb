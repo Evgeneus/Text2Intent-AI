{
  "cells": [
    {
      "cell_type": "markdown",
      "metadata": {
        "id": "qXTmTtyfkAyF"
      },
      "source": [
        "# Data exploration and Transformation"
      ]
    },
    {
      "cell_type": "markdown",
      "source": [
        "*Note If use this notebook in Google Colab please upload all the data and indicate the path.*"
      ],
      "metadata": {
        "id": "vNPyaPdjlaGM"
      }
    },
    {
      "cell_type": "markdown",
      "metadata": {
        "id": "ApnyEUI3kAyH"
      },
      "source": [
        "This notebook is dedicated to exploratory analyses of the ATIS dataset.\n",
        "Some key observations:\n",
        "1. Highly imbalanced dataset!\n",
        "2. Time in the dataset has different formats.\n",
        "3. Looks like the text is lowercased  -> need to take into account this at inference time in prod to avoid data shift.\n",
        "4. No duplicates in the datasets, however, there is data leakage between train and test sets.\n",
        "5. There is some label mismatch in train and test sets.\n",
        "6. Some labels are represented as a combination of several other intents (labels) from the dataset.\n",
        "7. Looks like punctuation was removed -> need to take into account this at inference time in prod.\n",
        "8. The text length is relatively short -> we may think about reducing the sequence length in Transformer for faster inference time (future work).\n",
        "9. Some labels are not clean.\n",
        "10. Some classes are duplicated, e.g., \"flight+airfare\" and \"airfare+flight\" in the test set, \"flight_no+airline\" to \"airline+flight_no\" in both sets.\n",
        "\n",
        "--> The dataset needs cleaning and transformation."
      ]
    },
    {
      "cell_type": "code",
      "execution_count": null,
      "metadata": {
        "id": "cNa-pF9pkAyI"
      },
      "outputs": [],
      "source": [
        "%matplotlib inline\n",
        "import matplotlib.pyplot as plt\n",
        "import pandas as pd"
      ]
    },
    {
      "cell_type": "code",
      "execution_count": null,
      "metadata": {
        "id": "edVzCXYqkAyJ",
        "outputId": "fb0e7dfc-91cf-459f-fa8e-6332884189f5"
      },
      "outputs": [
        {
          "name": "stdout",
          "output_type": "stream",
          "text": [
            "len df: 4634\n",
            "len df_test: 850\n"
          ]
        },
        {
          "data": {
            "text/html": [
              "<div>\n",
              "<style scoped>\n",
              "    .dataframe tbody tr th:only-of-type {\n",
              "        vertical-align: middle;\n",
              "    }\n",
              "\n",
              "    .dataframe tbody tr th {\n",
              "        vertical-align: top;\n",
              "    }\n",
              "\n",
              "    .dataframe thead th {\n",
              "        text-align: right;\n",
              "    }\n",
              "</style>\n",
              "<table border=\"1\" class=\"dataframe\">\n",
              "  <thead>\n",
              "    <tr style=\"text-align: right;\">\n",
              "      <th></th>\n",
              "      <th>text</th>\n",
              "      <th>label</th>\n",
              "    </tr>\n",
              "  </thead>\n",
              "  <tbody>\n",
              "    <tr>\n",
              "      <th>0</th>\n",
              "      <td>i want to fly from boston at 838 am and arrive...</td>\n",
              "      <td>flight</td>\n",
              "    </tr>\n",
              "    <tr>\n",
              "      <th>1</th>\n",
              "      <td>what flights are available from pittsburgh to ...</td>\n",
              "      <td>flight</td>\n",
              "    </tr>\n",
              "  </tbody>\n",
              "</table>\n",
              "</div>"
            ],
            "text/plain": [
              "                                                text   label\n",
              "0  i want to fly from boston at 838 am and arrive...  flight\n",
              "1  what flights are available from pittsburgh to ...  flight"
            ]
          },
          "execution_count": 38,
          "metadata": {},
          "output_type": "execute_result"
        }
      ],
      "source": [
        "# Load train and test datasets into DataFrames\n",
        "df = pd.read_csv(\"data/atis/train.tsv\", sep=\"\\t\", names=[\"text\", \"label\"])\n",
        "df_test = pd.read_csv(\"data/atis/test.tsv\", sep=\"\\t\", names=[\"text\", \"label\"])\n",
        "\n",
        "# Remove white spaces from corners\n",
        "df[\"text\"] = df[\"text\"].apply(lambda x: x.strip())\n",
        "df_test[\"text\"] = df_test[\"text\"].apply(lambda x: x.strip())\n",
        "\n",
        "print(f\"len df: {len(df)}\")\n",
        "print(f\"len df_test: {len(df_test)}\")\n",
        "\n",
        "df.head(2)"
      ]
    },
    {
      "cell_type": "markdown",
      "metadata": {
        "id": "6mmRf97JkAyK"
      },
      "source": [
        "# Sanity checks for duplicates and data leakage in the datasets"
      ]
    },
    {
      "cell_type": "code",
      "execution_count": null,
      "metadata": {
        "id": "W9l_q0QukAyK",
        "outputId": "8a868f67-9477-4559-e31e-ef3e5b523dce"
      },
      "outputs": [
        {
          "name": "stdout",
          "output_type": "stream",
          "text": [
            "* Check TRAIN dataframe:* \n",
            "Data contains duplicates? -> False\n",
            "Data contains duplicates in 'text' field? -> False\n",
            "----------------\n",
            "* Check TEST dataframe:* \n",
            "Data contains duplicates? -> False\n",
            "Data contains duplicates in 'text' field? -> False\n",
            "----------------\n",
            "* Number of samples in common in train and test sets: 11 *\n"
          ]
        }
      ],
      "source": [
        "import hashlib\n",
        "\n",
        "def get_sha(text: str) -> bytes:\n",
        "    sha256 = hashlib.sha256()\n",
        "    sha256.update(str.encode(text))\n",
        "    return sha256.digest()\n",
        "\n",
        "# Compute hash for text column\n",
        "df[\"text_hash\"] = df[\"text\"].map(get_sha)\n",
        "df_test[\"text_hash\"] = df_test[\"text\"].map(get_sha)\n",
        "\n",
        "# Check train dataframe\n",
        "print(\"* Check TRAIN dataframe:* \")\n",
        "print(f\"Data contains duplicates? -> {len(df) != len(df.text_hash.drop_duplicates())}\")\n",
        "print(f\"Data contains duplicates in 'text' field? -> {len(df) != len(df.text_hash.drop_duplicates())}\")\n",
        "print(\"----------------\")\n",
        "# Check test dataframe\n",
        "print(\"* Check TEST dataframe:* \")\n",
        "print(f\"Data contains duplicates? -> {len(df_test) != len(df_test.drop_duplicates())}\")\n",
        "print(f\"Data contains duplicates in 'text' field? -> {len(df_test) != len(df_test.text_hash.drop_duplicates())}\")\n",
        "print(\"----------------\")\n",
        "# Check Train vs Test data\n",
        "samples_incommon_hash = set(df[\"text_hash\"].values) & set(df_test[\"text_hash\"].values)\n",
        "num_samples_incommon = len(samples_incommon_hash)\n",
        "print(f\"* Number of samples in common in train and test sets: {num_samples_incommon} *\")"
      ]
    },
    {
      "cell_type": "code",
      "execution_count": null,
      "metadata": {
        "id": "MIdApGPBkAyK",
        "outputId": "518922cc-f138-4be7-cd42-bb305c3c7937"
      },
      "outputs": [
        {
          "name": "stdout",
          "output_type": "stream",
          "text": [
            "Text-lable consistency preserved: True\n",
            "Int64Index([254, 729, 827, 1375, 1543, 1846, 2220, 2722, 2962, 3009, 4371], dtype='int64')\n"
          ]
        },
        {
          "data": {
            "text/html": [
              "<div>\n",
              "<style scoped>\n",
              "    .dataframe tbody tr th:only-of-type {\n",
              "        vertical-align: middle;\n",
              "    }\n",
              "\n",
              "    .dataframe tbody tr th {\n",
              "        vertical-align: top;\n",
              "    }\n",
              "\n",
              "    .dataframe thead th {\n",
              "        text-align: right;\n",
              "    }\n",
              "</style>\n",
              "<table border=\"1\" class=\"dataframe\">\n",
              "  <thead>\n",
              "    <tr style=\"text-align: right;\">\n",
              "      <th></th>\n",
              "      <th>text</th>\n",
              "      <th>label</th>\n",
              "    </tr>\n",
              "  </thead>\n",
              "  <tbody>\n",
              "    <tr>\n",
              "      <th>254</th>\n",
              "      <td>give me the flights from pittsburgh to los ang...</td>\n",
              "      <td>flight</td>\n",
              "    </tr>\n",
              "    <tr>\n",
              "      <th>729</th>\n",
              "      <td>what is fare code m</td>\n",
              "      <td>abbreviation</td>\n",
              "    </tr>\n",
              "    <tr>\n",
              "      <th>827</th>\n",
              "      <td>what does fare code qo mean</td>\n",
              "      <td>abbreviation</td>\n",
              "    </tr>\n",
              "    <tr>\n",
              "      <th>1375</th>\n",
              "      <td>give me a flight from charlotte to baltimore o...</td>\n",
              "      <td>flight</td>\n",
              "    </tr>\n",
              "    <tr>\n",
              "      <th>1543</th>\n",
              "      <td>what does fare code y mean</td>\n",
              "      <td>abbreviation</td>\n",
              "    </tr>\n",
              "    <tr>\n",
              "      <th>1846</th>\n",
              "      <td>what airline is as</td>\n",
              "      <td>airline</td>\n",
              "    </tr>\n",
              "    <tr>\n",
              "      <th>2220</th>\n",
              "      <td>what airline is hp</td>\n",
              "      <td>airline</td>\n",
              "    </tr>\n",
              "    <tr>\n",
              "      <th>2722</th>\n",
              "      <td>what airline is dl</td>\n",
              "      <td>airline</td>\n",
              "    </tr>\n",
              "    <tr>\n",
              "      <th>2962</th>\n",
              "      <td>ground transportation in las vegas</td>\n",
              "      <td>ground_service</td>\n",
              "    </tr>\n",
              "    <tr>\n",
              "      <th>3009</th>\n",
              "      <td>what is fare code f</td>\n",
              "      <td>abbreviation</td>\n",
              "    </tr>\n",
              "    <tr>\n",
              "      <th>4371</th>\n",
              "      <td>what types of ground transportation are availa...</td>\n",
              "      <td>ground_service</td>\n",
              "    </tr>\n",
              "  </tbody>\n",
              "</table>\n",
              "</div>"
            ],
            "text/plain": [
              "                                                   text           label\n",
              "254   give me the flights from pittsburgh to los ang...          flight\n",
              "729                                 what is fare code m    abbreviation\n",
              "827                         what does fare code qo mean    abbreviation\n",
              "1375  give me a flight from charlotte to baltimore o...          flight\n",
              "1543                         what does fare code y mean    abbreviation\n",
              "1846                                 what airline is as         airline\n",
              "2220                                 what airline is hp         airline\n",
              "2722                                 what airline is dl         airline\n",
              "2962                 ground transportation in las vegas  ground_service\n",
              "3009                                what is fare code f    abbreviation\n",
              "4371  what types of ground transportation are availa...  ground_service"
            ]
          },
          "execution_count": 40,
          "metadata": {},
          "output_type": "execute_result"
        }
      ],
      "source": [
        "# Understand if shared {text, label} are consistent in values in both sets\n",
        "df_common = df[df[\"text_hash\"].isin(samples_incommon_hash)]\n",
        "df_test_common = df_test[df_test[\"text_hash\"].isin(samples_incommon_hash)]\n",
        "print(\"Text-lable consistency preserved: \", end=\"\")\n",
        "print(set(df_common[\"text\"] + df_common[\"label\"]) == set(df_test_common[\"text\"] + df_test_common[\"label\"]))\n",
        "\n",
        "# Print common samples\n",
        "shared_samples_indx_train = df_common[[\"text\", \"label\"]].index\n",
        "print(shared_samples_indx_train)\n",
        "df_common[[\"text\", \"label\"]]"
      ]
    },
    {
      "cell_type": "markdown",
      "metadata": {
        "id": "nLkLI1VFkAyL"
      },
      "source": [
        "_--> The labels above are among major classes, thus we can safely remove them from the train set and keep them in the test set._"
      ]
    },
    {
      "cell_type": "code",
      "execution_count": null,
      "metadata": {
        "id": "ZlrZKPjVkAyL",
        "outputId": "2d33b878-5e46-463b-dd91-a30ae051a049"
      },
      "outputs": [
        {
          "name": "stdout",
          "output_type": "stream",
          "text": [
            "Size Train set: 4634\n",
            "Size Train set new: 4623\n"
          ]
        }
      ],
      "source": [
        "print(f\"Size Train set: {len(df)}\")\n",
        "df.drop(index=shared_samples_indx_train, inplace=True)\n",
        "print(f\"Size Train set new: {len(df)}\")"
      ]
    },
    {
      "cell_type": "code",
      "execution_count": null,
      "metadata": {
        "id": "qQtTY0rtkAyL"
      },
      "outputs": [],
      "source": [
        "# Drop hash column\n",
        "df.drop(columns=[\"text_hash\"], inplace=True)\n",
        "df_test.drop(columns=[\"text_hash\"], inplace=True)"
      ]
    },
    {
      "cell_type": "code",
      "execution_count": null,
      "metadata": {
        "id": "fMK2HjEfkAyL"
      },
      "outputs": [],
      "source": []
    },
    {
      "cell_type": "markdown",
      "metadata": {
        "id": "q6TF6iF5kAyM"
      },
      "source": [
        "# Look into the label distribution"
      ]
    },
    {
      "cell_type": "code",
      "execution_count": null,
      "metadata": {
        "id": "8_qNWiYYkAyM",
        "outputId": "bbf1fa9a-69fe-4030-e1c0-0a6b12251682"
      },
      "outputs": [
        {
          "name": "stdout",
          "output_type": "stream",
          "text": [
            "Label Distr. in Train dataset:\n",
            "flight                        3424\n",
            "airfare                        403\n",
            "ground_service                 233\n",
            "airline                        145\n",
            "abbreviation                   104\n",
            "aircraft                        78\n",
            "flight_time                     52\n",
            "quantity                        49\n",
            "distance                        20\n",
            "city                            18\n",
            "airport                         18\n",
            "ground_fare                     17\n",
            "flight+airfare                  17\n",
            "capacity                        16\n",
            "flight_no                       12\n",
            "meal                             6\n",
            "restriction                      5\n",
            "airline+flight_no                2\n",
            "ground_service+ground_fare       1\n",
            "airfare+flight_time              1\n",
            "cheapest                         1\n",
            "aircraft+flight+flight_no        1\n",
            "Name: label, dtype: int64\n"
          ]
        }
      ],
      "source": [
        "print(f\"Label Distr. in Train dataset:\\n{df.label.value_counts()}\")\n",
        "# Similar imbalanced distribution is in test set as well"
      ]
    },
    {
      "cell_type": "code",
      "execution_count": null,
      "metadata": {
        "id": "KQfTq0oUkAyM",
        "outputId": "91cb5bac-0654-43a8-b6ed-4856e5d3e0c2"
      },
      "outputs": [
        {
          "name": "stdout",
          "output_type": "stream",
          "text": [
            "Label Distr. in Test dataset:\n",
            "flight               613\n",
            "airfare               48\n",
            "ground_service        36\n",
            "airline               28\n",
            "abbreviation          26\n",
            "capacity              21\n",
            "airport               13\n",
            "flight+airfare        12\n",
            "distance              10\n",
            "aircraft               8\n",
            "flight_no              8\n",
            "ground_fare            7\n",
            "meal                   6\n",
            "city                   5\n",
            "quantity               3\n",
            "day_name               2\n",
            "flight_time            1\n",
            "airfare+flight         1\n",
            "flight+airline         1\n",
            "flight_no+airline      1\n",
            "Name: label, dtype: int64\n"
          ]
        }
      ],
      "source": [
        "print(f\"Label Distr. in Test dataset:\\n{df_test.label.value_counts()}\")"
      ]
    },
    {
      "cell_type": "markdown",
      "metadata": {
        "id": "PsEWUAlUkAyM"
      },
      "source": [
        "_-->Looks like \"airfare+flight\" and \"flight+airfare\" in test are the same classes --> fix it!_"
      ]
    },
    {
      "cell_type": "code",
      "execution_count": null,
      "metadata": {
        "id": "On2MrSqckAyM",
        "outputId": "b305b359-c543-4cdc-ea7a-313822b2e63c"
      },
      "outputs": [
        {
          "name": "stdout",
          "output_type": "stream",
          "text": [
            "                                                  text           label\n",
            "228  list the airfare for american airlines flight ...  airfare+flight\n"
          ]
        }
      ],
      "source": [
        "# Get samples with \"duplicated\" classes in test set\n",
        "print(df_test[df_test[\"label\"] == \"airfare+flight\"])\n",
        "_idx1 = df_test[df_test[\"label\"] == \"airfare+flight\"].index\n",
        "\n",
        "# Change the label name from \"airfare+flight\" to \"flight+airfare\"\n",
        "df_test.loc[_idx1, \"label\"] = \"flight+airfare\""
      ]
    },
    {
      "cell_type": "code",
      "execution_count": null,
      "metadata": {
        "id": "OfQKZLbwkAyN",
        "outputId": "4c82b391-1bd7-4f69-86fe-894c72a66888"
      },
      "outputs": [
        {
          "name": "stdout",
          "output_type": "stream",
          "text": [
            "                                                  text              label\n",
            "493  i need flight numbers and airlines for flights...  flight_no+airline\n"
          ]
        }
      ],
      "source": [
        "# Get samples with \"duplicated\" classes in test set\n",
        "print(df_test[df_test[\"label\"] == \"flight_no+airline\"])\n",
        "_idx2 = df_test[df_test[\"label\"] == \"flight_no+airline\"].index\n",
        "\n",
        "# Change the label name in test from \"flight_no+airline\" to \"airline+flight_no\"\n",
        "df_test.loc[_idx2, \"label\"] = \"airline+flight_no\""
      ]
    },
    {
      "cell_type": "code",
      "execution_count": null,
      "metadata": {
        "id": "FbJGQf6bkAyN",
        "outputId": "30820180-916c-4fa9-c2f6-e31fab1d614a"
      },
      "outputs": [
        {
          "name": "stdout",
          "output_type": "stream",
          "text": [
            "Do labels from Train set match labels in Test: False !\n",
            "Total number of classes: 24\n"
          ]
        }
      ],
      "source": [
        "# Check the label consistency in train and test sets\n",
        "print(f\"Do labels from Train set match labels in Test: {set(df.label.values) == set(df_test.label.values)} !\")\n",
        "\n",
        "labels_train = set(df.label.unique())\n",
        "labels_test = set(df_test.label.unique())\n",
        "all_labels_set = labels_train | labels_test\n",
        "print(f\"Total number of classes: {len(all_labels_set)}\")"
      ]
    },
    {
      "cell_type": "markdown",
      "metadata": {
        "id": "g9hyzNmvkAyN"
      },
      "source": [
        "### Understand which classes are preserved in Test set but missed in the Train set and vice versa"
      ]
    },
    {
      "cell_type": "code",
      "execution_count": null,
      "metadata": {
        "id": "S_MDgw9okAyN",
        "outputId": "47b3b4df-2f8e-4b54-d274-b5d25ba76aa7"
      },
      "outputs": [
        {
          "name": "stdout",
          "output_type": "stream",
          "text": [
            "Missed labels in Train set: {'day_name', 'flight+airline'}\n"
          ]
        },
        {
          "data": {
            "text/html": [
              "<div>\n",
              "<style scoped>\n",
              "    .dataframe tbody tr th:only-of-type {\n",
              "        vertical-align: middle;\n",
              "    }\n",
              "\n",
              "    .dataframe tbody tr th {\n",
              "        vertical-align: top;\n",
              "    }\n",
              "\n",
              "    .dataframe thead th {\n",
              "        text-align: right;\n",
              "    }\n",
              "</style>\n",
              "<table border=\"1\" class=\"dataframe\">\n",
              "  <thead>\n",
              "    <tr style=\"text-align: right;\">\n",
              "      <th></th>\n",
              "      <th>text</th>\n",
              "      <th>label</th>\n",
              "    </tr>\n",
              "  </thead>\n",
              "  <tbody>\n",
              "    <tr>\n",
              "      <th>34</th>\n",
              "      <td>what day of the week do flights from nashville...</td>\n",
              "      <td>day_name</td>\n",
              "    </tr>\n",
              "    <tr>\n",
              "      <th>36</th>\n",
              "      <td>what days of the week do flights from san jose...</td>\n",
              "      <td>day_name</td>\n",
              "    </tr>\n",
              "    <tr>\n",
              "      <th>486</th>\n",
              "      <td>i need flight and airline information for a fl...</td>\n",
              "      <td>flight+airline</td>\n",
              "    </tr>\n",
              "  </tbody>\n",
              "</table>\n",
              "</div>"
            ],
            "text/plain": [
              "                                                  text           label\n",
              "34   what day of the week do flights from nashville...        day_name\n",
              "36   what days of the week do flights from san jose...        day_name\n",
              "486  i need flight and airline information for a fl...  flight+airline"
            ]
          },
          "execution_count": 48,
          "metadata": {},
          "output_type": "execute_result"
        }
      ],
      "source": [
        "missed_labels_in_train = labels_test - labels_train\n",
        "print(f\"Missed labels in Train set: {missed_labels_in_train}\")\n",
        "# Visualise distribution of this classes in test set to see if we can move some of samples in train set\n",
        "df_test[df_test[\"label\"].isin(missed_labels_in_train)]"
      ]
    },
    {
      "cell_type": "markdown",
      "metadata": {
        "id": "VGAg5FD-kAyO"
      },
      "source": [
        "_--> At this moment two classes are missed in the train set._"
      ]
    },
    {
      "cell_type": "markdown",
      "metadata": {
        "id": "gZejwizqkAyO"
      },
      "source": [
        "#### Looking at Test set now"
      ]
    },
    {
      "cell_type": "code",
      "execution_count": null,
      "metadata": {
        "id": "QTFzgGs0kAyO",
        "outputId": "847d4a5d-ecf2-4a81-ac26-d187fef73c88"
      },
      "outputs": [
        {
          "name": "stdout",
          "output_type": "stream",
          "text": [
            "Missed labels in Test set: {'ground_service+ground_fare', 'airfare+flight_time', 'aircraft+flight+flight_no', 'cheapest', 'restriction'}\n"
          ]
        },
        {
          "data": {
            "text/html": [
              "<div>\n",
              "<style scoped>\n",
              "    .dataframe tbody tr th:only-of-type {\n",
              "        vertical-align: middle;\n",
              "    }\n",
              "\n",
              "    .dataframe tbody tr th {\n",
              "        vertical-align: top;\n",
              "    }\n",
              "\n",
              "    .dataframe thead th {\n",
              "        text-align: right;\n",
              "    }\n",
              "</style>\n",
              "<table border=\"1\" class=\"dataframe\">\n",
              "  <thead>\n",
              "    <tr style=\"text-align: right;\">\n",
              "      <th></th>\n",
              "      <th>text</th>\n",
              "      <th>label</th>\n",
              "    </tr>\n",
              "  </thead>\n",
              "  <tbody>\n",
              "    <tr>\n",
              "      <th>830</th>\n",
              "      <td>what are the air restrictions on flights from ...</td>\n",
              "      <td>restriction</td>\n",
              "    </tr>\n",
              "    <tr>\n",
              "      <th>1167</th>\n",
              "      <td>what is restriction ap57</td>\n",
              "      <td>restriction</td>\n",
              "    </tr>\n",
              "    <tr>\n",
              "      <th>2596</th>\n",
              "      <td>what ground transportation is available from t...</td>\n",
              "      <td>ground_service+ground_fare</td>\n",
              "    </tr>\n",
              "    <tr>\n",
              "      <th>2700</th>\n",
              "      <td>show me the costs and times for flights from s...</td>\n",
              "      <td>airfare+flight_time</td>\n",
              "    </tr>\n",
              "    <tr>\n",
              "      <th>3268</th>\n",
              "      <td>show me the cheapest fare in the database</td>\n",
              "      <td>cheapest</td>\n",
              "    </tr>\n",
              "    <tr>\n",
              "      <th>3668</th>\n",
              "      <td>i want to fly from detroit to st. petersburg o...</td>\n",
              "      <td>aircraft+flight+flight_no</td>\n",
              "    </tr>\n",
              "    <tr>\n",
              "      <th>3885</th>\n",
              "      <td>what are the restrictions on the cheapest one ...</td>\n",
              "      <td>restriction</td>\n",
              "    </tr>\n",
              "    <tr>\n",
              "      <th>3985</th>\n",
              "      <td>what 's restriction ap68</td>\n",
              "      <td>restriction</td>\n",
              "    </tr>\n",
              "    <tr>\n",
              "      <th>4452</th>\n",
              "      <td>what is restriction ap80</td>\n",
              "      <td>restriction</td>\n",
              "    </tr>\n",
              "  </tbody>\n",
              "</table>\n",
              "</div>"
            ],
            "text/plain": [
              "                                                   text  \\\n",
              "830   what are the air restrictions on flights from ...   \n",
              "1167                           what is restriction ap57   \n",
              "2596  what ground transportation is available from t...   \n",
              "2700  show me the costs and times for flights from s...   \n",
              "3268          show me the cheapest fare in the database   \n",
              "3668  i want to fly from detroit to st. petersburg o...   \n",
              "3885  what are the restrictions on the cheapest one ...   \n",
              "3985                           what 's restriction ap68   \n",
              "4452                           what is restriction ap80   \n",
              "\n",
              "                           label  \n",
              "830                  restriction  \n",
              "1167                 restriction  \n",
              "2596  ground_service+ground_fare  \n",
              "2700         airfare+flight_time  \n",
              "3268                    cheapest  \n",
              "3668   aircraft+flight+flight_no  \n",
              "3885                 restriction  \n",
              "3985                 restriction  \n",
              "4452                 restriction  "
            ]
          },
          "execution_count": 49,
          "metadata": {},
          "output_type": "execute_result"
        }
      ],
      "source": [
        "missed_labels_in_test = labels_train - labels_test\n",
        "print(f\"Missed labels in Test set: {missed_labels_in_test}\")\n",
        "# Visualise distribution of this classes in test set to see if we can move some of samples in train set\n",
        "df[df[\"label\"].isin(missed_labels_in_test)]"
      ]
    },
    {
      "cell_type": "markdown",
      "metadata": {
        "id": "Rug17IUHkAyO"
      },
      "source": [
        "_--> All of these samples are among low-represented classes in the train set --> we may consider to keep them in train set only._"
      ]
    },
    {
      "cell_type": "markdown",
      "metadata": {
        "id": "n2dSl8pZkAyO"
      },
      "source": [
        "--> At this point, I think about two possibilities for the task: 1) Join low-represented classes in a new class \"Other\", or 2) Manually (or outsource) create a view of more samples for these classes.  I prefer to go with the second approach as it is low effort in this case and we will save the original label set."
      ]
    },
    {
      "cell_type": "markdown",
      "metadata": {
        "id": "B6jreJtCkAyO"
      },
      "source": [
        "#### Generate more samples for low-represented classes"
      ]
    },
    {
      "cell_type": "markdown",
      "metadata": {
        "id": "HZXNqIOhkAyO"
      },
      "source": [
        " _*Before manually creating new samples I will move some original samples from train to test dataset so that in the test set we cover all classes in this problem._"
      ]
    },
    {
      "cell_type": "code",
      "execution_count": null,
      "metadata": {
        "id": "t1o8ZplnkAyP",
        "outputId": "0dfa7614-1f10-440f-e081-29a0c95cc86a"
      },
      "outputs": [
        {
          "name": "stdout",
          "output_type": "stream",
          "text": [
            "Size Train set: 4623\n",
            "Size Test set: 850\n",
            "Size Train NEW set: 4617\n",
            "Size Test NEW set: 856\n"
          ]
        }
      ],
      "source": [
        "_idx3 = [830, 1167, 2596, 2700, 3268, 3668]\n",
        "print(f\"Size Train set: {len(df)}\")\n",
        "print(f\"Size Test set: {len(df_test)}\")\n",
        "\n",
        "df_test = pd.concat([\n",
        "    df_test,\n",
        "    df.loc[_idx3].copy(deep=True),\n",
        "], ignore_index=True)\n",
        "df.drop(index=_idx3, inplace=True)\n",
        "\n",
        "print(f\"Size Train NEW set: {len(df)}\")\n",
        "print(f\"Size Test NEW set: {len(df_test)}\")"
      ]
    },
    {
      "cell_type": "code",
      "execution_count": null,
      "metadata": {
        "id": "R18CnpZwkAyP"
      },
      "outputs": [],
      "source": [
        "# Manually create data to have at least 5 samples per class\n",
        "new_train_samples_list = [\n",
        "    (\"do you provide any meal for my flight\", \"meal\"),\n",
        "    (\"what kind of meal do you give for flight 751\", \"meal\"),\n",
        "    (\"what are vegan dishes available\", \"meal\"),\n",
        "    (\"can i need to order food in advance\", \"meal\"),\n",
        "    (\"what are the air restrictions on flights from chicago to new york\", \"restriction\"),\n",
        "    (\"is there any luggage restrictions\", \"restriction\"),\n",
        "    (\"can i bring a dog on board\", \"restriction\"),\n",
        "    (\"any restrictions apply on the flight ad34\", \"restriction\"),\n",
        "    (\"what are the restrictions on fare between los angeles and austin\", \"restriction\"),\n",
        "    (\"what airline and flight i can buy from columbus to miami\", \"airline+flight_no\"),\n",
        "    (\"i would like to know airlines that fly to san francisco and numbers of flights\", \"airline+flight_no\"),\n",
        "    (\"is there any and airlines and flight number for today from chicago\", \"airline+flight_no\"),\n",
        "    (\"what ground transportation is available in dallas tomorrow and what are the prices\", \"ground_service+ground_fare\"),\n",
        "    (\"show ground transportation for pittsburgh together with prices\", \"ground_service+ground_fare\"),\n",
        "    (\"give cheapest ground transportation in baltimore\", \"ground_service+ground_fare\"),\n",
        "    (\"ground transfer in san francisco and prices\", \"ground_service+ground_fare\"),\n",
        "    (\"economy fares new york to miami round trip and show me times for flights\", \"airfare+flight_time\"),\n",
        "    (\"how much is a flight from washington to montreal provide list the flight times\", \"airfare+flight_time\"),\n",
        "    (\"what are the costs of flights from dallas to boston tomorrow and time\", \"airfare+flight_time\"),\n",
        "    (\"all fares and flights from philadelphia and display time\", \"airfare+flight_time\"),\n",
        "    (\"show me the cheapest flight from dallas to san francesco\", \"cheapest\"),\n",
        "    (\"round trip cheapest fares to philadelphia\", \"cheapest\"),\n",
        "    (\"what is the lowest priced fare from baltimore to boston\", \"cheapest\"),\n",
        "    (\"cheapest flight for today\", \"cheapest\"),\n",
        "    (\"show me the type of aircraft that cp uses by this flight and tell me the flight number\", \"aircraft+flight+flight_no\"),\n",
        "    (\"i would like a to know the type of aircraft flight number from atlanta to boston on friday used by this flight\", \"aircraft+flight+flight_no\"),\n",
        "    (\"what flight number leaving denver flying to san francisco what type of aircraft is used for this flight\", \"aircraft+flight+flight_no\"),\n",
        "    (\"what kind of airplane goes from boston to san francisco before noon and what flight and flight number\", \"aircraft+flight+flight_no\"),\n",
        "    (\"i would like the day name for flight from washington to philadelphia\", \"day_name\"),\n",
        "    (\"what is the day of the week of flights from boston to denver\", \"day_name\"),\n",
        "    (\"what is the day of flights from pittsburgh to dallas\", \"day_name\"),\n",
        "    (\"what day of the week does the flight leave denver going to san francisco\", \"day_name\"),\n",
        "    (\"what is the day of week for flights between pittsburgh and boston on the evening in july\", \"day_name\"),\n",
        "    (\"please show me round trip tickets from denver to oakland for american airlines\", \"flight+airfare\"),\n",
        "    (\"what airlines and the price one way from atlanta to denver\", \"flight+airfare\"),\n",
        "    (\"how much is a trip fare from memphis what kind of airline \", \"flight+airfare\"),\n",
        "    (\"what's the trip fare from dallas to atlanta and whichairlines\", \"flight+airfare\"),\n",
        "    (\"what airlines have flights from baltimore to seattle and list the number of flights\", \"airline+flight_no\"),\n",
        "    (\"which airlines fly from boston to washington dc what are the flight numbers\", \"airline+flight_no\"),\n",
        "    (\"flight numbers and airline that stands for dl\", \"airline+flight_no\"),\n",
        "    (\"flight numbers and airline that fly to seattle from pittsburgh\", \"airline+flight_no\"),\n",
        "    (\"francisco to pittsburgh airlines and flight numbers leaving on monday night\", \"airline+flight_no\"),\n",
        "    (\"show me all flights and airlines both direct from dallas to either san francisco or oakland\", \"flight+airline\"),\n",
        "    (\"give me flights from chicago to seattle and operating arilines\", \"flight+airline\"),\n",
        "    (\"tell me what airline and the earliest flight leaves between atlanta and denver\", \"flight+airline\"),\n",
        "    (\"i want a flight from toronto to montreal that leaves early friday morning give airlines available\", \"flight+airline\"),\n",
        "    (\"what first class flights and airlines are available from denver to baltimore on october fifth\", \"flight+airline\"),\n",
        "]"
      ]
    },
    {
      "cell_type": "code",
      "execution_count": null,
      "metadata": {
        "id": "fdvMCSfykAyP",
        "outputId": "8ac1dac1-f804-462b-c589-b4d3048c93e7"
      },
      "outputs": [
        {
          "name": "stdout",
          "output_type": "stream",
          "text": [
            "Label Distr. NEW in Train dataset:\n",
            "flight                        3424\n",
            "airfare                        403\n",
            "ground_service                 233\n",
            "airline                        145\n",
            "abbreviation                   104\n",
            "aircraft                        78\n",
            "flight_time                     52\n",
            "quantity                        49\n",
            "flight+airfare                  21\n",
            "distance                        20\n",
            "airport                         18\n",
            "city                            18\n",
            "ground_fare                     17\n",
            "capacity                        16\n",
            "flight_no                       12\n",
            "meal                            10\n",
            "airline+flight_no               10\n",
            "restriction                      8\n",
            "day_name                         5\n",
            "flight+airline                   5\n",
            "ground_service+ground_fare       4\n",
            "airfare+flight_time              4\n",
            "cheapest                         4\n",
            "aircraft+flight+flight_no        4\n",
            "Name: label, dtype: int64\n"
          ]
        }
      ],
      "source": [
        "# Add generated samples to train set\n",
        "df = pd.concat([\n",
        "    df,\n",
        "    pd.DataFrame(new_train_samples_list, columns = [\"text\", \"label\"]),\n",
        "], ignore_index=True)\n",
        "print(f\"Label Distr. NEW in Train dataset:\\n{df.label.value_counts()}\")"
      ]
    },
    {
      "cell_type": "code",
      "execution_count": null,
      "metadata": {
        "id": "83cqycBbkAyP"
      },
      "outputs": [],
      "source": [
        "#### Check again if we now have any missed labels in train-test sets"
      ]
    },
    {
      "cell_type": "code",
      "execution_count": null,
      "metadata": {
        "id": "Ue9cpVNikAyQ",
        "outputId": "c861573b-b1fb-42f2-a463-90645ad8c5e2"
      },
      "outputs": [
        {
          "name": "stdout",
          "output_type": "stream",
          "text": [
            "Missed labels in Train set: set()\n",
            "Missed labels in Test set: set()\n"
          ]
        }
      ],
      "source": [
        "labels_train = set(df.label.unique())\n",
        "labels_test = set(df_test.label.unique())\n",
        "all_labels_set = labels_train | labels_test\n",
        "missed_labels_in_train = labels_test - labels_train\n",
        "print(f\"Missed labels in Train set: {missed_labels_in_train}\")\n",
        "missed_labels_in_test = labels_train - labels_test\n",
        "print(f\"Missed labels in Test set: {missed_labels_in_test}\")"
      ]
    },
    {
      "cell_type": "markdown",
      "metadata": {
        "id": "28DBAO7HkAyQ"
      },
      "source": [
        "--> Nice, all the classes are presented in both sets!"
      ]
    },
    {
      "cell_type": "markdown",
      "metadata": {
        "id": "SFIhXcAjkAyQ"
      },
      "source": [
        "### Add unique IDs for each data row\n",
        "Can be usseful to log samples used for model training, e g, for a Model card."
      ]
    },
    {
      "cell_type": "code",
      "execution_count": null,
      "metadata": {
        "id": "mH2BskhjkAyQ"
      },
      "outputs": [],
      "source": [
        "import uuid\n",
        "\n",
        "# generate UUID\n",
        "df[\"uuid\"] = df[\"text\"].apply(lambda _: uuid.uuid4())\n",
        "df_test[\"uuid\"] = df_test[\"text\"].apply(lambda _: uuid.uuid4())"
      ]
    },
    {
      "cell_type": "markdown",
      "metadata": {
        "id": "n5fPwLZVkAyQ"
      },
      "source": [
        "### Train-Validation data split"
      ]
    },
    {
      "cell_type": "code",
      "execution_count": null,
      "metadata": {
        "id": "NbR0Ozv1kAyQ"
      },
      "outputs": [],
      "source": [
        "from sklearn.model_selection import train_test_split\n",
        "\n",
        "seed = 42\n",
        "\n",
        "y = df.get(\"label\")\n",
        "X = df\n",
        "\n",
        "# split dataset in train val sets\n",
        "X_train, X_val, y_train,y_val = train_test_split(X.index, y, random_state=seed, test_size=0.2, stratify=y)\n",
        "\n",
        "df_train = df.loc[X_train]\n",
        "df_val = df.loc[X_val]\n",
        "\n",
        "assert set(df.loc[X_val].label.values) == set(df.loc[X_train].label.values)"
      ]
    },
    {
      "cell_type": "code",
      "execution_count": null,
      "metadata": {
        "id": "0O_nZImbkAyR"
      },
      "outputs": [],
      "source": [
        "# save train val test datasets\n",
        "df_train.to_csv(\"data/atis/train_transformed.csv\", index=False)\n",
        "df_val.to_csv(\"data/atis/val_transformed.csv\", index=False)\n",
        "df_test.to_csv(\"data/atis/test_transformed.csv\", index=False)"
      ]
    },
    {
      "cell_type": "code",
      "execution_count": null,
      "metadata": {
        "id": "1bneQiOgkAyR"
      },
      "outputs": [],
      "source": []
    },
    {
      "cell_type": "code",
      "execution_count": null,
      "metadata": {
        "id": "O4-UcxECkAyW"
      },
      "outputs": [],
      "source": []
    }
  ],
  "metadata": {
    "kernelspec": {
      "display_name": "Python 3 (Data Science)",
      "language": "python",
      "name": "python3__SAGEMAKER_INTERNAL__arn:aws:sagemaker:eu-west-1:470317259841:image/datascience-1.0"
    },
    "language_info": {
      "codemirror_mode": {
        "name": "ipython",
        "version": 3
      },
      "file_extension": ".py",
      "mimetype": "text/x-python",
      "name": "python",
      "nbconvert_exporter": "python",
      "pygments_lexer": "ipython3",
      "version": "3.7.10"
    },
    "colab": {
      "provenance": []
    }
  },
  "nbformat": 4,
  "nbformat_minor": 0
}